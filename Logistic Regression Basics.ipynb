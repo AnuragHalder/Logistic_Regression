{
 "cells": [
  {
   "cell_type": "code",
   "execution_count": 40,
   "id": "128ebc2b-50e0-4674-a10c-9d9dd0a5c7e4",
   "metadata": {},
   "outputs": [
    {
     "data": {
      "text/plain": [
       "variety\n",
       "Setosa        50\n",
       "Versicolor    50\n",
       "Virginica     50\n",
       "Name: variety, dtype: int64"
      ]
     },
     "execution_count": 40,
     "metadata": {},
     "output_type": "execute_result"
    }
   ],
   "source": [
    "import pandas as pd\n",
    "import numpy as np\n",
    "import matplotlib.pyplot as plt\n",
    "\n",
    "df_original = df = pd.read_csv(\"iris.csv\")\n",
    "df_original['variety'].groupby(df_original['variety']).count()"
   ]
  },
  {
   "cell_type": "code",
   "execution_count": 41,
   "id": "62964f81-4a9b-4e0c-987b-d89d0df36337",
   "metadata": {},
   "outputs": [],
   "source": [
    "plant = 'Virginica'\n",
    "def define_target(x):\n",
    "    if x == plant:\n",
    "        return 1\n",
    "    else:\n",
    "        return 0\n",
    "\n",
    "cost_list = []\n",
    "\n",
    "df['target'] = df['variety'].apply(define_target)\n",
    "df['intercept'] = 1\n",
    "#cost_list = []\n",
    "column_names = df.columns\n",
    "for col in column_names:\n",
    "    if col != 'target' and col != 'intercept' and col != 'variety':\n",
    "        df[col] = (df[col]-df[col].mean())/(df[col].max()-df[col].min())\n",
    "y = df['target'].to_numpy().reshape(-1,1)\n",
    "x = df[['intercept','sepal.length','sepal.width','petal.length','petal.width']].to_numpy()\n",
    "beta = np.random.standard_normal(x.shape[1]).reshape(-1,1)\n",
    "i=0\n",
    "while i <1500:\n",
    "    log_odds = np.matmul(x,beta)\n",
    "    p = 1/(1+np.exp(-log_odds))\n",
    "    beta_update = np.matmul(x.transpose(),y-p)\n",
    "    beta += 0.01*beta_update\n",
    "    cost = np.sum(y * np.log(p) + (1 - y) * np.log(1 - p))\n",
    "    cost_list.append(cost)\n",
    "    i+=1\n",
    "    \n",
    "# Note: How does cost function behave with predicted probabilities \n",
    "# Scenario 1: probabilities are absolutely off i.e. when y=1 p=0 and y=0 p=1\n",
    "# # Sum(y x log(p)+(1-y) x log(1-p)) OR Sum(1 X log(0) + 1xlog(1-1)) OR Cost -> -infinity\n",
    "# Scenario 2: 1 of the probabilities are off i.e. when y=1 p=1 and y=0 p=1\n",
    "# # Sum(y x log(p)+(1-y) x log(1-p)) OR Sum(1 X log(1) + 1xlog(1-1)) OR Cost -> -infinity\n",
    "# Scenario 3: Both are correctly predicted i.e. when y=1 p=1 and y=0 p=0\n",
    "# # Sum(y x log(p)+(1-y) x log(1-p)) OR Sum(1 X log(1) + 1xlog(1)) OR Cost -> 0\n",
    "# Hence as we move from misclassification to correct classification Cost moves from -infinity to 0"
   ]
  },
  {
   "cell_type": "code",
   "execution_count": 33,
   "id": "e2fe6847-21fc-4dc6-828c-9b99bbe013d2",
   "metadata": {},
   "outputs": [
    {
     "data": {
      "text/plain": [
       "[<matplotlib.lines.Line2D at 0x7fcc54a40ca0>]"
      ]
     },
     "execution_count": 33,
     "metadata": {},
     "output_type": "execute_result"
    },
    {
     "data": {
      "image/png": "[encoded data removed]",
      "text/plain": [
       "<Figure size 432x288 with 1 Axes>"
      ]
     },
     "metadata": {
      "needs_background": "light"
     },
     "output_type": "display_data"
    }
   ],
   "source": [
    "plt.plot(cost_list)"
   ]
  },
  {
   "cell_type": "code",
   "execution_count": 42,
   "id": "4b28a094-fab0-4140-a2f8-ccda760657e2",
   "metadata": {},
   "outputs": [
    {
     "data": {
      "text/plain": [
       "'97.33333333333334%'"
      ]
     },
     "execution_count": 42,
     "metadata": {},
     "output_type": "execute_result"
    }
   ],
   "source": [
    "prob_set1 = [x.item() for x in p]\n",
    "target = [x.item() for x in y]\n",
    "correct = 0\n",
    "\n",
    "for i in range(len(target)):\n",
    "    if prob_set1[i]>0.5: \n",
    "         out = 1\n",
    "    else:\n",
    "        out = 0\n",
    "    if target[i]== out:\n",
    "        correct+=1\n",
    "        \n",
    "str(correct/len(target)*100)+\"%\""
   ]
  },
  {
   "cell_type": "code",
   "execution_count": 43,
   "id": "f1c7bfdd-45eb-4848-b694-89dc59093395",
   "metadata": {},
   "outputs": [
    {
     "data": {
      "image/png": "[encoded data removed]",
      "text/plain": [
       "<Figure size 432x288 with 1 Axes>"
      ]
     },
     "metadata": {
      "needs_background": "light"
     },
     "output_type": "display_data"
    }
   ],
   "source": [
    "# Choosing a threshold\n",
    "# For y = 0 plot a density plot of the predicted values\n",
    "# For y = 1 plot a density plot of the predicted values\n",
    "\n",
    "data = {'target': target,\n",
    "        'prob': prob_set1}\n",
    "\n",
    "# Create DataFrame\n",
    "df = pd.DataFrame(data)\n",
    "\n",
    "# Separate the data into two based on the values in Column1 (1s and 0s)\n",
    "ones = df[df['target'] == 1]['prob']\n",
    "zeros = df[df['target'] == 0]['prob']\n",
    "\n",
    "# Plot histogram\n",
    "plt.hist(ones, bins=10, alpha=0.5, label='1s', color='blue')\n",
    "plt.hist(zeros, bins=10, alpha=0.5, label='0s', color='orange')\n",
    "\n",
    "# Add labels and title\n",
    "plt.xlabel('Probability')\n",
    "plt.ylabel('Frequency')\n",
    "plt.title('Histogram of Target based on Probabilities')\n",
    "plt.legend()\n",
    "\n",
    "# Show plot\n",
    "plt.show()"
   ]
  },
  {
   "cell_type": "code",
   "execution_count": 44,
   "id": "773e63af-d084-4d04-be80-ae4afbb1699b",
   "metadata": {},
   "outputs": [
    {
     "data": {
      "image/png": "[encoded data removed]",
      "text/plain": [
       "<Figure size 432x288 with 1 Axes>"
      ]
     },
     "metadata": {
      "needs_background": "light"
     },
     "output_type": "display_data"
    },
    {
     "data": {
      "text/plain": [
       "[<matplotlib.lines.Line2D at 0x7fcc5699e970>]"
      ]
     },
     "execution_count": 44,
     "metadata": {},
     "output_type": "execute_result"
    },
    {
     "data": {
      "image/png": "[encoded data removed]",
      "text/plain": [
       "<Figure size 432x288 with 1 Axes>"
      ]
     },
     "metadata": {
      "needs_background": "light"
     },
     "output_type": "display_data"
    }
   ],
   "source": [
    "# ROC Curve - FPR vs TPR\n",
    "thresold_list = []\n",
    "FPR = []\n",
    "TPR = []\n",
    "misclassification_error = []\n",
    "p_0 = df[df['target']==0]['prob']\n",
    "p_1 = df[df['target']==1]['prob']\n",
    "i = 0\n",
    "while i <=1:\n",
    "    thresold_list.append(i)\n",
    "    i+=0.01\n",
    "    \n",
    "for t in thresold_list:\n",
    "    FPR.append(len([x for x in p_0 if x>=t])/len(p_0))\n",
    "    TPR.append(len([x for x in p_1 if x>=t])/len(p_1))\n",
    "    misclassification_error.append((len([x for x in p_0 if x>=t]) + len([x for x in p_1 if x<=t]))/(len(p_0)+len(p_1)))\n",
    "    \n",
    "# Create a scatter plot\n",
    "plt.scatter(FPR, TPR, color='blue')\n",
    "plt.plot(FPR, TPR, color='blue', linestyle='-', label='Connecting line')\n",
    "\n",
    "# Add labels and title\n",
    "plt.xlabel('FPR')\n",
    "plt.ylabel('TPR')\n",
    "plt.title(f'Scatter Plot of {plant}')\n",
    "\n",
    "# Show plot\n",
    "plt.show()\n",
    "\n",
    "\n",
    "plt.scatter(thresold_list,misclassification_error)\n",
    "plt.plot(thresold_list,misclassification_error, color='blue', linestyle='-', label='Connecting line')"
   ]
  },
  {
   "cell_type": "code",
   "execution_count": 45,
   "id": "9488976b-9c1a-4c17-8466-ac458ba7334c",
   "metadata": {},
   "outputs": [
    {
     "data": {
      "text/plain": [
       "0.5800000000000003"
      ]
     },
     "execution_count": 45,
     "metadata": {},
     "output_type": "execute_result"
    }
   ],
   "source": [
    "# Choosing the threshold\n",
    "threshold = dict(zip(misclassification_error,thresold_list))\n",
    "threshold[min(list(threshold.keys()))]"
   ]
  },
  {
   "cell_type": "code",
   "execution_count": 46,
   "id": "23a14f95-36be-4c00-a8be-4cef26c3fd1c",
   "metadata": {},
   "outputs": [
    {
     "data": {
      "text/plain": [
       "(0.997, 0.9984)"
      ]
     },
     "execution_count": 46,
     "metadata": {},
     "output_type": "execute_result"
    }
   ],
   "source": [
    "#AUC\n",
    "from sklearn.metrics import roc_auc_score\n",
    "data = {'FPR': FPR,\n",
    "        'TPR': TPR}\n",
    "\n",
    "# Create DataFrame\n",
    "df = pd.DataFrame(data).sort_values(by=['FPR'])\n",
    "df['lagged_FPR'] = df['FPR'].shift(1)\n",
    "df['lagged_TPR'] = df['TPR'].shift(1)\n",
    "df['Area'] = 0.5*((df['lagged_TPR']+df['TPR'])*(df['FPR']-df['lagged_FPR'])) #Trapizoid Area Calculation\n",
    "\n",
    "\n",
    "df['Area'].sum(), roc_auc_score(target,prob_set1)"
   ]
  },
  {
   "cell_type": "code",
   "execution_count": 39,
   "id": "7a98c335-91d7-47a8-8093-93987cf92b9b",
   "metadata": {},
   "outputs": [
    {
     "data": {
      "text/plain": [
       "0.39788075291582203"
      ]
     },
     "execution_count": 39,
     "metadata": {},
     "output_type": "execute_result"
    }
   ],
   "source": [
    "# McFadden's R-Square\n",
    "ratio = len(df_original[df_original['variety']==plant])/len(df_original[df_original['variety']!=plant])\n",
    "p_mean = 1/(1+np.exp(-ratio))\n",
    "cost_mean = np.sum(y * np.log(p_mean) + (1 - y) * np.log(1 - p_mean))\n",
    "1 - cost/cost_mean"
   ]
  }
 ],
 "metadata": {
  "kernelspec": {
   "display_name": "Python 3 (ipykernel)",
   "language": "python",
   "name": "python3"
  },
  "language_info": {
   "codemirror_mode": {
    "name": "ipython",
    "version": 3
   },
   "file_extension": ".py",
   "mimetype": "text/x-python",
   "name": "python",
   "nbconvert_exporter": "python",
   "pygments_lexer": "ipython3",
   "version": "3.9.7"
  }
 },
 "nbformat": 4,
 "nbformat_minor": 5
}
